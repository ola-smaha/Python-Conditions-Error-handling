{
 "cells": [
  {
   "cell_type": "code",
   "execution_count": 1,
   "metadata": {},
   "outputs": [],
   "source": [
    "import database_handler\n",
    "from lookups import Types, PandasFunctions\n",
    "from pandas_handler import pandas_function\n",
    "from csv_handler import get_csv_files_as_list"
   ]
  },
  {
   "cell_type": "code",
   "execution_count": 2,
   "metadata": {},
   "outputs": [],
   "source": [
    "session = database_handler.create_connection()"
   ]
  },
  {
   "cell_type": "code",
   "execution_count": 3,
   "metadata": {},
   "outputs": [],
   "source": [
    "session = database_handler.refresh_connection(session)"
   ]
  },
  {
   "cell_type": "code",
   "execution_count": 4,
   "metadata": {},
   "outputs": [
    {
     "name": "stderr",
     "output_type": "stream",
     "text": [
      "c:\\Users\\olasm\\Desktop\\FSD - July 2023\\week 5\\Python-Conditions-Error-handling\\Ola_ETL_Proj\\database_handler.py:48: UserWarning: pandas only supports SQLAlchemy connectable (engine/connection) or database string URI or sqlite3 DBAPI2 connection. Other DBAPI2 objects are not tested. Please consider using SQLAlchemy.\n",
      "  return_df = pd.read_sql_query(con = session, sql = data_source)\n"
     ]
    },
    {
     "data": {
      "text/html": [
       "<div>\n",
       "<style scoped>\n",
       "    .dataframe tbody tr th:only-of-type {\n",
       "        vertical-align: middle;\n",
       "    }\n",
       "\n",
       "    .dataframe tbody tr th {\n",
       "        vertical-align: top;\n",
       "    }\n",
       "\n",
       "    .dataframe thead th {\n",
       "        text-align: right;\n",
       "    }\n",
       "</style>\n",
       "<table border=\"1\" class=\"dataframe\">\n",
       "  <thead>\n",
       "    <tr style=\"text-align: right;\">\n",
       "      <th></th>\n",
       "      <th>country</th>\n",
       "    </tr>\n",
       "  </thead>\n",
       "  <tbody>\n",
       "    <tr>\n",
       "      <th>0</th>\n",
       "      <td>Afghanistan</td>\n",
       "    </tr>\n",
       "    <tr>\n",
       "      <th>1</th>\n",
       "      <td>Algeria</td>\n",
       "    </tr>\n",
       "    <tr>\n",
       "      <th>2</th>\n",
       "      <td>American Samoa</td>\n",
       "    </tr>\n",
       "  </tbody>\n",
       "</table>\n",
       "</div>"
      ],
      "text/plain": [
       "          country\n",
       "0     Afghanistan\n",
       "1         Algeria\n",
       "2  American Samoa"
      ]
     },
     "execution_count": 4,
     "metadata": {},
     "output_type": "execute_result"
    }
   ],
   "source": [
    "# testing return_as_df with query\n",
    "countries = \"\"\"\n",
    "    SELECT se_country.country\n",
    "    FROM public.country se_country\n",
    "\"\"\"\n",
    "query_df = database_handler.return_as_df(data_source=countries,file_type=Types.SQL,session = session)\n",
    "query_df.head(3)"
   ]
  },
  {
   "cell_type": "code",
   "execution_count": 5,
   "metadata": {},
   "outputs": [
    {
     "data": {
      "text/html": [
       "<div>\n",
       "<style scoped>\n",
       "    .dataframe tbody tr th:only-of-type {\n",
       "        vertical-align: middle;\n",
       "    }\n",
       "\n",
       "    .dataframe tbody tr th {\n",
       "        vertical-align: top;\n",
       "    }\n",
       "\n",
       "    .dataframe thead th {\n",
       "        text-align: right;\n",
       "    }\n",
       "</style>\n",
       "<table border=\"1\" class=\"dataframe\">\n",
       "  <thead>\n",
       "    <tr style=\"text-align: right;\">\n",
       "      <th></th>\n",
       "      <th>Customer ID</th>\n",
       "      <th>Customer Name</th>\n",
       "    </tr>\n",
       "  </thead>\n",
       "  <tbody>\n",
       "    <tr>\n",
       "      <th>0</th>\n",
       "      <td>CG-12520</td>\n",
       "      <td>Claire Gute</td>\n",
       "    </tr>\n",
       "    <tr>\n",
       "      <th>1</th>\n",
       "      <td>DV-13045</td>\n",
       "      <td>Darrin Van Huff</td>\n",
       "    </tr>\n",
       "    <tr>\n",
       "      <th>2</th>\n",
       "      <td>SO-20335</td>\n",
       "      <td>Sean O'Donnell</td>\n",
       "    </tr>\n",
       "    <tr>\n",
       "      <th>3</th>\n",
       "      <td>BH-11710</td>\n",
       "      <td>Brosina Hoffman</td>\n",
       "    </tr>\n",
       "    <tr>\n",
       "      <th>4</th>\n",
       "      <td>AA-10480</td>\n",
       "      <td>Andrew Allen</td>\n",
       "    </tr>\n",
       "  </tbody>\n",
       "</table>\n",
       "</div>"
      ],
      "text/plain": [
       "  Customer ID    Customer Name\n",
       "0    CG-12520      Claire Gute\n",
       "1    DV-13045  Darrin Van Huff\n",
       "2    SO-20335   Sean O'Donnell\n",
       "3    BH-11710  Brosina Hoffman\n",
       "4    AA-10480     Andrew Allen"
      ]
     },
     "execution_count": 5,
     "metadata": {},
     "output_type": "execute_result"
    }
   ],
   "source": [
    "# testing return_as_df with csv file\n",
    "csv_df = database_handler.return_as_df(data_source='csv_files\\Dim Customer.csv',file_type=Types.CSV)\n",
    "csv_df.head()"
   ]
  },
  {
   "cell_type": "code",
   "execution_count": 6,
   "metadata": {},
   "outputs": [
    {
     "name": "stdout",
     "output_type": "stream",
     "text": [
      "Error: can't return sql query, Execution failed on sql 'SELECT * FROM no_table': relation \"no_table\" does not exist\n",
      "LINE 1: SELECT * FROM no_table\n",
      "                      ^\n",
      "\n"
     ]
    },
    {
     "name": "stderr",
     "output_type": "stream",
     "text": [
      "c:\\Users\\olasm\\Desktop\\FSD - July 2023\\week 5\\Python-Conditions-Error-handling\\Ola_ETL_Proj\\database_handler.py:48: UserWarning: pandas only supports SQLAlchemy connectable (engine/connection) or database string URI or sqlite3 DBAPI2 connection. Other DBAPI2 objects are not tested. Please consider using SQLAlchemy.\n",
      "  return_df = pd.read_sql_query(con = session, sql = data_source)\n"
     ]
    }
   ],
   "source": [
    "# testing return_as_df handling errors\n",
    "query_error = database_handler.return_as_df(\"SELECT * FROM no_table\",Types.SQL,session)"
   ]
  },
  {
   "cell_type": "code",
   "execution_count": 7,
   "metadata": {},
   "outputs": [
    {
     "data": {
      "text/plain": [
       "[('Crowe',), ('Dunst',), ('Degeneres',), ('Nolte',), ('Dern',)]"
      ]
     },
     "execution_count": 7,
     "metadata": {},
     "output_type": "execute_result"
    }
   ],
   "source": [
    "actors = \"\"\"\n",
    "    SELECT se_actor.last_name\n",
    "    FROM public.actor se_actor\n",
    "    LIMIT 5\n",
    "\"\"\"\n",
    "query2 = database_handler.return_query(session,actors)\n",
    "query2"
   ]
  },
  {
   "cell_type": "code",
   "execution_count": 8,
   "metadata": {},
   "outputs": [
    {
     "name": "stdout",
     "output_type": "stream",
     "text": [
      "Executed Successfully,\n"
     ]
    }
   ],
   "source": [
    "# testing successful execute_query\n",
    "get_actor_name =\"\"\"\n",
    "    UPDATE public.actor\n",
    "    SET first_name = UPPER(first_name)\n",
    "\"\"\"\n",
    "database_handler.execute_query(session,get_actor_name)"
   ]
  },
  {
   "cell_type": "code",
   "execution_count": 9,
   "metadata": {},
   "outputs": [
    {
     "name": "stdout",
     "output_type": "stream",
     "text": [
      "Error executing query, relation \"public.actor1\" does not exist\n",
      "LINE 2:     UPDATE public.actor1\n",
      "                   ^\n",
      "\n"
     ]
    }
   ],
   "source": [
    "# testing error handling of execute_query\n",
    "get_actor_name =\"\"\"\n",
    "    UPDATE public.actor1\n",
    "    SET first_name = UPPER(first_name)\n",
    "\"\"\"\n",
    "database_handler.execute_query(session,get_actor_name)"
   ]
  },
  {
   "cell_type": "code",
   "execution_count": 11,
   "metadata": {},
   "outputs": [
    {
     "data": {
      "text/html": [
       "<div>\n",
       "<style scoped>\n",
       "    .dataframe tbody tr th:only-of-type {\n",
       "        vertical-align: middle;\n",
       "    }\n",
       "\n",
       "    .dataframe tbody tr th {\n",
       "        vertical-align: top;\n",
       "    }\n",
       "\n",
       "    .dataframe thead th {\n",
       "        text-align: right;\n",
       "    }\n",
       "</style>\n",
       "<table border=\"1\" class=\"dataframe\">\n",
       "  <thead>\n",
       "    <tr style=\"text-align: right;\">\n",
       "      <th></th>\n",
       "      <th>table_catalog</th>\n",
       "      <th>table_schema</th>\n",
       "      <th>table_name</th>\n",
       "      <th>column_name</th>\n",
       "      <th>ordinal_position</th>\n",
       "      <th>column_default</th>\n",
       "      <th>is_nullable</th>\n",
       "      <th>data_type</th>\n",
       "      <th>character_maximum_length</th>\n",
       "      <th>character_octet_length</th>\n",
       "      <th>...</th>\n",
       "      <th>is_identity</th>\n",
       "      <th>identity_generation</th>\n",
       "      <th>identity_start</th>\n",
       "      <th>identity_increment</th>\n",
       "      <th>identity_maximum</th>\n",
       "      <th>identity_minimum</th>\n",
       "      <th>identity_cycle</th>\n",
       "      <th>is_generated</th>\n",
       "      <th>generation_expression</th>\n",
       "      <th>is_updatable</th>\n",
       "    </tr>\n",
       "  </thead>\n",
       "  <tbody>\n",
       "    <tr>\n",
       "      <th>0</th>\n",
       "      <td>dvd_rental</td>\n",
       "      <td>public</td>\n",
       "      <td>actor</td>\n",
       "      <td>last_name</td>\n",
       "      <td>3</td>\n",
       "      <td>None</td>\n",
       "      <td>NO</td>\n",
       "      <td>character varying</td>\n",
       "      <td>45.0</td>\n",
       "      <td>180.0</td>\n",
       "      <td>...</td>\n",
       "      <td>NO</td>\n",
       "      <td>None</td>\n",
       "      <td>None</td>\n",
       "      <td>None</td>\n",
       "      <td>None</td>\n",
       "      <td>None</td>\n",
       "      <td>NO</td>\n",
       "      <td>NEVER</td>\n",
       "      <td>None</td>\n",
       "      <td>YES</td>\n",
       "    </tr>\n",
       "    <tr>\n",
       "      <th>1</th>\n",
       "      <td>dvd_rental</td>\n",
       "      <td>public</td>\n",
       "      <td>category</td>\n",
       "      <td>name</td>\n",
       "      <td>2</td>\n",
       "      <td>None</td>\n",
       "      <td>NO</td>\n",
       "      <td>character varying</td>\n",
       "      <td>25.0</td>\n",
       "      <td>100.0</td>\n",
       "      <td>...</td>\n",
       "      <td>NO</td>\n",
       "      <td>None</td>\n",
       "      <td>None</td>\n",
       "      <td>None</td>\n",
       "      <td>None</td>\n",
       "      <td>None</td>\n",
       "      <td>NO</td>\n",
       "      <td>NEVER</td>\n",
       "      <td>None</td>\n",
       "      <td>YES</td>\n",
       "    </tr>\n",
       "  </tbody>\n",
       "</table>\n",
       "<p>2 rows × 44 columns</p>\n",
       "</div>"
      ],
      "text/plain": [
       "  table_catalog table_schema table_name column_name  ordinal_position  \\\n",
       "0    dvd_rental       public      actor   last_name                 3   \n",
       "1    dvd_rental       public   category        name                 2   \n",
       "\n",
       "  column_default is_nullable          data_type  character_maximum_length  \\\n",
       "0           None          NO  character varying                      45.0   \n",
       "1           None          NO  character varying                      25.0   \n",
       "\n",
       "   character_octet_length  ...  is_identity  identity_generation  \\\n",
       "0                   180.0  ...           NO                 None   \n",
       "1                   100.0  ...           NO                 None   \n",
       "\n",
       "   identity_start  identity_increment identity_maximum identity_minimum  \\\n",
       "0            None                None             None             None   \n",
       "1            None                None             None             None   \n",
       "\n",
       "  identity_cycle is_generated generation_expression is_updatable  \n",
       "0             NO        NEVER                  None          YES  \n",
       "1             NO        NEVER                  None          YES  \n",
       "\n",
       "[2 rows x 44 columns]"
      ]
     },
     "execution_count": 11,
     "metadata": {},
     "output_type": "execute_result"
    }
   ],
   "source": [
    "# testing get_schema_information function\n",
    "info_df = database_handler.get_schema_information(session)\n",
    "info_df.head(2)"
   ]
  },
  {
   "cell_type": "code",
   "execution_count": null,
   "metadata": {},
   "outputs": [
    {
     "data": {
      "text/plain": [
       "(134, 44)"
      ]
     },
     "execution_count": 12,
     "metadata": {},
     "output_type": "execute_result"
    }
   ],
   "source": [
    "# testing pandas_function\n",
    "#pandas_function(info_df,PandasFunctions.GET_BLANKS)\n",
    "#pandas_function(info_df,PandasFunctions.GET_LENGTH)\n",
    "#pandas_function(info_df,PandasFunctions.REMOVE_DUPLICATES)\n",
    "#pandas_function(info_df,PandasFunctions.REMOVE_NULLS)\n",
    "pandas_function(info_df,PandasFunctions.GET_SHAPE)"
   ]
  },
  {
   "cell_type": "code",
   "execution_count": null,
   "metadata": {},
   "outputs": [
    {
     "name": "stdout",
     "output_type": "stream",
     "text": [
      "Error removing null values, 'list' object has no attribute 'dropna'\n"
     ]
    }
   ],
   "source": [
    "# testing error handling\n",
    "pandas_function(query2,PandasFunctions.REMOVE_NULLS)"
   ]
  },
  {
   "cell_type": "code",
   "execution_count": null,
   "metadata": {},
   "outputs": [
    {
     "data": {
      "text/plain": [
       "['Dim Customer.csv',\n",
       " 'Dim Location.csv',\n",
       " 'Dim Product.csv',\n",
       " 'Dim SalesPerson.csv',\n",
       " 'Fact Purchase.csv']"
      ]
     },
     "execution_count": 15,
     "metadata": {},
     "output_type": "execute_result"
    }
   ],
   "source": [
    "get_csv_files_as_list()"
   ]
  },
  {
   "cell_type": "code",
   "execution_count": null,
   "metadata": {},
   "outputs": [],
   "source": [
    "database_handler.close_connection(session)"
   ]
  }
 ],
 "metadata": {
  "kernelspec": {
   "display_name": "etl_env",
   "language": "python",
   "name": "python3"
  },
  "language_info": {
   "codemirror_mode": {
    "name": "ipython",
    "version": 3
   },
   "file_extension": ".py",
   "mimetype": "text/x-python",
   "name": "python",
   "nbconvert_exporter": "python",
   "pygments_lexer": "ipython3",
   "version": "3.10.12"
  },
  "orig_nbformat": 4
 },
 "nbformat": 4,
 "nbformat_minor": 2
}
